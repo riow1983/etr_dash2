{
 "cells": [
  {
   "cell_type": "code",
   "execution_count": 13,
   "metadata": {
    "collapsed": true
   },
   "outputs": [],
   "source": [
    "import numpy as np\n",
    "import matplotlib.pyplot as plt\n",
    "from matplotlib.backends.backend_agg import FigureCanvasAgg as FigureCanvas\n",
    "from flask import Flask, render_template, request, make_response\n",
    "import sqlite3 as sql\n",
    "import pandas as pd\n",
    "from functools import reduce\n",
    "from io import BytesIO"
   ]
  },
  {
   "cell_type": "code",
   "execution_count": 14,
   "metadata": {
    "collapsed": false
   },
   "outputs": [],
   "source": [
    "conn = sql.connect(\"database.db\")\n",
    "sqlstring = \"SELECT * FROM report\"\n",
    "df = pd.read_sql(sqlstring,conn)"
   ]
  },
  {
   "cell_type": "code",
   "execution_count": 15,
   "metadata": {
    "collapsed": false
   },
   "outputs": [],
   "source": [
    "df[\"time_required\"] = pd.to_datetime(df[\"endtime\"]) - pd.to_datetime(df[\"starttime\"])\n",
    "df[\"time_required(m)\"] = df[\"time_required\"].astype('timedelta64[m]')\n",
    "df[\"month\"] = df[\"starttime\"].apply(lambda x:x[:7])\n",
    "df = df[[\"personnel\",\"month\",\"time_required(m)\"]]"
   ]
  },
  {
   "cell_type": "code",
   "execution_count": 16,
   "metadata": {
    "collapsed": true
   },
   "outputs": [],
   "source": [
    "start = '2017-03'\n",
    "end = '2017-05'"
   ]
  },
  {
   "cell_type": "code",
   "execution_count": 17,
   "metadata": {
    "collapsed": false
   },
   "outputs": [],
   "source": [
    "df = df[(df[\"month\"]>=start)&(df[\"month\"]<=end)]\n",
    "df = df.groupby([\"month\",\"personnel\"]).sum()\n",
    "df = df.reset_index()\n",
    "\n",
    "res = []\n",
    "for month in set(df[\"month\"]):\n",
    "    tmp = df[df[\"month\"]==month]\n",
    "    tmp = tmp.drop(\"month\",1)\n",
    "    tmp = tmp.set_index(\"personnel\").T\n",
    "    tmp[\"month\"] = month\n",
    "    res.append(tmp)\n",
    "\n",
    "dfc = reduce(lambda x,y: pd.concat([x,y]), res)\n",
    "dfc = dfc.set_index(\"month\")\n",
    "dfc = dfc.fillna(0)\n",
    "col = dfc.columns.tolist()\n",
    "rows = dfc.index.tolist()"
   ]
  },
  {
   "cell_type": "code",
   "execution_count": 18,
   "metadata": {
    "collapsed": false
   },
   "outputs": [],
   "source": [
    "dfc = dfc.sort_index()"
   ]
  },
  {
   "cell_type": "code",
   "execution_count": 26,
   "metadata": {
    "collapsed": false
   },
   "outputs": [
    {
     "data": {
      "image/png": "[encoded data removed]",
      "text/plain": [
       "<matplotlib.figure.Figure at 0x11114e438>"
      ]
     },
     "metadata": {},
     "output_type": "display_data"
    }
   ],
   "source": [
    "data = dfc\n",
    "columns = col\n",
    "rows = rows\n",
    "\n",
    "# Get some pastel shades for the colors\n",
    "colors = plt.cm.BuPu(np.linspace(0, 0.5, len(rows)))\n",
    "n_rows = len(data)\n",
    "\n",
    "index = np.arange(len(columns)) + 0.3\n",
    "bar_width = 0.4\n",
    "\n",
    "# Initialize the vertical-offset for the stacked bar chart.\n",
    "y_offset = np.array([0.0] * len(columns))\n",
    "\n",
    "plt.figure()\n",
    "\n",
    "# Plot bars and create text labels for the table\n",
    "cell_text = []\n",
    "for row in range(n_rows):\n",
    "    plt.bar(index, data.iloc[row,:], bar_width, bottom=y_offset, color=colors[row])\n",
    "    y_offset = y_offset + data.iloc[row,:]\n",
    "    cell_text.append(['%s' % x for x in data.iloc[row,:]])\n",
    "# Reverse colors and text labels to display the last value at the top.\n",
    "#colors = colors[::-1]\n",
    "#cell_text.reverse()\n",
    "\n",
    "# Add a table at the bottom of the axes\n",
    "the_table = plt.table(cellText=cell_text,\n",
    "                      rowLabels=rows,\n",
    "                      rowColours=colors,\n",
    "                      colLabels=columns,\n",
    "                      loc='bottom')\n",
    "\n",
    "# Adjust layout to make room for the table:\n",
    "plt.subplots_adjust(left=0.2, bottom=0.2)\n",
    "\n",
    "plt.ylabel(\"Time Required (m)\")\n",
    "#plt.yticks(values * value_increment, ['%d' % val for val in values])\n",
    "plt.xticks([])\n",
    "plt.title('English Translation Support')\n",
    "\n",
    "##plt.show()\n",
    "image = BytesIO()\n",
    "#plt.savefig(image, format='png')\n",
    "#image.seek(0)\n",
    "#return send_file(image, attachment_filename=\"image.png\", as_attachment=True)\n",
    "\n",
    "canvas=FigureCanvas(plt)\n",
    "\n",
    "canvas.print_png(image)\n",
    "response=make_response(image.getvalue())\n",
    "response.headers['Content-Type'] = 'image/png'\n",
    "return response\n",
    "\n",
    "\n",
    "\n",
    "\n",
    "#png_output = StringIO.StringIO()\n",
    "\n",
    "\n"
   ]
  },
  {
   "cell_type": "code",
   "execution_count": null,
   "metadata": {
    "collapsed": true
   },
   "outputs": [],
   "source": []
  },
  {
   "cell_type": "code",
   "execution_count": null,
   "metadata": {
    "collapsed": true
   },
   "outputs": [],
   "source": []
  }
 ],
 "metadata": {
  "kernelspec": {
   "display_name": "Python 3",
   "language": "python",
   "name": "python3"
  },
  "language_info": {
   "codemirror_mode": {
    "name": "ipython",
    "version": 3
   },
   "file_extension": ".py",
   "mimetype": "text/x-python",
   "name": "python",
   "nbconvert_exporter": "python",
   "pygments_lexer": "ipython3",
   "version": "3.6.0"
  }
 },
 "nbformat": 4,
 "nbformat_minor": 2
}
